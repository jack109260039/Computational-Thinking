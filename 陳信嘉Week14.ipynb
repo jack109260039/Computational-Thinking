{
  "nbformat": 4,
  "nbformat_minor": 0,
  "metadata": {
    "colab": {
      "name": "陳信嘉Week14.ipynb",
      "provenance": [],
      "authorship_tag": "ABX9TyNNXNqsSR/UJGY0xjpqHiIL",
      "include_colab_link": true
    },
    "kernelspec": {
      "name": "python3",
      "display_name": "Python 3"
    }
  },
  "cells": [
    {
      "cell_type": "markdown",
      "metadata": {
        "id": "view-in-github",
        "colab_type": "text"
      },
      "source": [
        "<a href=\"https://colab.research.google.com/github/jack109260039/Computational-Thinking/blob/master/%E9%99%B3%E4%BF%A1%E5%98%89Week14.ipynb\" target=\"_parent\"><img src=\"https://colab.research.google.com/assets/colab-badge.svg\" alt=\"Open In Colab\"/></a>"
      ]
    },
    {
      "cell_type": "code",
      "metadata": {
        "colab": {
          "base_uri": "https://localhost:8080/"
        },
        "id": "GblXOiFVnXNG",
        "outputId": "4469cfc6-9dd1-48ef-a7b6-8e54f8e4a8f6"
      },
      "source": [
        "sheet = ['牛奶', '蛋', '咖啡豆']\r\n",
        "for index in range(0,len(sheet)): #位置索引[0,1,2]\r\n",
        "  print (index, sheet[index])"
      ],
      "execution_count": 4,
      "outputs": [
        {
          "output_type": "stream",
          "text": [
            "0 牛奶\n",
            "1 蛋\n",
            "2 咖啡豆\n"
          ],
          "name": "stdout"
        }
      ]
    },
    {
      "cell_type": "code",
      "metadata": {
        "colab": {
          "base_uri": "https://localhost:8080/"
        },
        "id": "AZ3v4-8HqI9L",
        "outputId": "05f1d945-397e-48e5-b1eb-97f0e82e6455"
      },
      "source": [
        "for i in range(1,10,1): # 控制輸出幾行\r\n",
        " for j in range(1,10,1): # 每行輸出多少個\r\n",
        "    print(i, '*', j, '=', i*j, '\\t', sep='',end='')\r\n",
        "\r\n",
        " print() "
      ],
      "execution_count": 40,
      "outputs": [
        {
          "output_type": "stream",
          "text": [
            "1*1=1\t1*2=2\t1*3=3\t1*4=4\t1*5=5\t1*6=6\t1*7=7\t1*8=8\t1*9=9\t\n",
            "2*1=2\t2*2=4\t2*3=6\t2*4=8\t2*5=10\t2*6=12\t2*7=14\t2*8=16\t2*9=18\t\n",
            "3*1=3\t3*2=6\t3*3=9\t3*4=12\t3*5=15\t3*6=18\t3*7=21\t3*8=24\t3*9=27\t\n",
            "4*1=4\t4*2=8\t4*3=12\t4*4=16\t4*5=20\t4*6=24\t4*7=28\t4*8=32\t4*9=36\t\n",
            "5*1=5\t5*2=10\t5*3=15\t5*4=20\t5*5=25\t5*6=30\t5*7=35\t5*8=40\t5*9=45\t\n",
            "6*1=6\t6*2=12\t6*3=18\t6*4=24\t6*5=30\t6*6=36\t6*7=42\t6*8=48\t6*9=54\t\n",
            "7*1=7\t7*2=14\t7*3=21\t7*4=28\t7*5=35\t7*6=42\t7*7=49\t7*8=56\t7*9=63\t\n",
            "8*1=8\t8*2=16\t8*3=24\t8*4=32\t8*5=40\t8*6=48\t8*7=56\t8*8=64\t8*9=72\t\n",
            "9*1=9\t9*2=18\t9*3=27\t9*4=36\t9*5=45\t9*6=54\t9*7=63\t9*8=72\t9*9=81\t\n"
          ],
          "name": "stdout"
        }
      ]
    },
    {
      "cell_type": "code",
      "metadata": {
        "colab": {
          "base_uri": "https://localhost:8080/"
        },
        "id": "vDOP3mO3opjv",
        "outputId": "2c601661-c854-4bf5-9ef3-e7390dfb703c"
      },
      "source": [
        "#作業\r\n",
        "people = [\"Mario\", \"Peach\", \"Luigi\", \"Daisy\", \"Toad\", \"Yoshi\"]\r\n",
        "dessert = [\"Star Pudding\", \"Peach Pie\", \"Popsicles\", \"Honey Cake\", \"Cookies\", \"Jelly Beans\"]\r\n",
        "for index in [0,1,2,3,4,5]:\r\n",
        " for j in dessert:\r\n",
        "\r\n",
        "  print('Welcome to Class!', people[index] ,'.','My favorite deseert is', j,'.')  \r\n",
        " print()"
      ],
      "execution_count": 47,
      "outputs": [
        {
          "output_type": "stream",
          "text": [
            "Welcome to Class! Mario . My favorite deseert is Star Pudding .\n",
            "Welcome to Class! Mario . My favorite deseert is Peach Pie .\n",
            "Welcome to Class! Mario . My favorite deseert is Popsicles .\n",
            "Welcome to Class! Mario . My favorite deseert is Honey Cake .\n",
            "Welcome to Class! Mario . My favorite deseert is Cookies .\n",
            "Welcome to Class! Mario . My favorite deseert is Jelly Beans .\n",
            "\n",
            "Welcome to Class! Peach . My favorite deseert is Star Pudding .\n",
            "Welcome to Class! Peach . My favorite deseert is Peach Pie .\n",
            "Welcome to Class! Peach . My favorite deseert is Popsicles .\n",
            "Welcome to Class! Peach . My favorite deseert is Honey Cake .\n",
            "Welcome to Class! Peach . My favorite deseert is Cookies .\n",
            "Welcome to Class! Peach . My favorite deseert is Jelly Beans .\n",
            "\n",
            "Welcome to Class! Luigi . My favorite deseert is Star Pudding .\n",
            "Welcome to Class! Luigi . My favorite deseert is Peach Pie .\n",
            "Welcome to Class! Luigi . My favorite deseert is Popsicles .\n",
            "Welcome to Class! Luigi . My favorite deseert is Honey Cake .\n",
            "Welcome to Class! Luigi . My favorite deseert is Cookies .\n",
            "Welcome to Class! Luigi . My favorite deseert is Jelly Beans .\n",
            "\n",
            "Welcome to Class! Daisy . My favorite deseert is Star Pudding .\n",
            "Welcome to Class! Daisy . My favorite deseert is Peach Pie .\n",
            "Welcome to Class! Daisy . My favorite deseert is Popsicles .\n",
            "Welcome to Class! Daisy . My favorite deseert is Honey Cake .\n",
            "Welcome to Class! Daisy . My favorite deseert is Cookies .\n",
            "Welcome to Class! Daisy . My favorite deseert is Jelly Beans .\n",
            "\n",
            "Welcome to Class! Toad . My favorite deseert is Star Pudding .\n",
            "Welcome to Class! Toad . My favorite deseert is Peach Pie .\n",
            "Welcome to Class! Toad . My favorite deseert is Popsicles .\n",
            "Welcome to Class! Toad . My favorite deseert is Honey Cake .\n",
            "Welcome to Class! Toad . My favorite deseert is Cookies .\n",
            "Welcome to Class! Toad . My favorite deseert is Jelly Beans .\n",
            "\n",
            "Welcome to Class! Yoshi . My favorite deseert is Star Pudding .\n",
            "Welcome to Class! Yoshi . My favorite deseert is Peach Pie .\n",
            "Welcome to Class! Yoshi . My favorite deseert is Popsicles .\n",
            "Welcome to Class! Yoshi . My favorite deseert is Honey Cake .\n",
            "Welcome to Class! Yoshi . My favorite deseert is Cookies .\n",
            "Welcome to Class! Yoshi . My favorite deseert is Jelly Beans .\n",
            "\n"
          ],
          "name": "stdout"
        }
      ]
    }
  ]
}