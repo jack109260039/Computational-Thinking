{
  "nbformat": 4,
  "nbformat_minor": 0,
  "metadata": {
    "colab": {
      "name": "Week10-1.ipynb",
      "provenance": [],
      "authorship_tag": "ABX9TyNjUKJavKSnLRL44YUkCxox",
      "include_colab_link": true
    },
    "kernelspec": {
      "name": "python3",
      "display_name": "Python 3"
    }
  },
  "cells": [
    {
      "cell_type": "markdown",
      "metadata": {
        "id": "view-in-github",
        "colab_type": "text"
      },
      "source": [
        "<a href=\"https://colab.research.google.com/github/jack109260039/Computational-Thinking/blob/master/Week10_1.ipynb\" target=\"_parent\"><img src=\"https://colab.research.google.com/assets/colab-badge.svg\" alt=\"Open In Colab\"/></a>"
      ]
    },
    {
      "cell_type": "code",
      "metadata": {
        "colab": {
          "base_uri": "https://localhost:8080/"
        },
        "id": "WBj4UBU6Z8c6",
        "outputId": "e709b4c9-0e9b-4ac2-f192-8ff50789f6a8"
      },
      "source": [
        "movie_title='joker'\n",
        "relrase_year='2019'\n",
        "movie_time_min='122'\n",
        "movie_genre='crime'\n",
        "movie_director='Todd Phillips'\n",
        "print('電影名稱',movie_title)\n",
        "print('電影年分',relrase_year)\n",
        "print('電影時長',movie_time_min)\n",
        "print('電影類型',movie_genre)\n",
        "print('電影導演',movie_director)"
      ],
      "execution_count": 6,
      "outputs": [
        {
          "output_type": "stream",
          "text": [
            "電影名稱 joker\n",
            "電影年分 2019\n",
            "電影時長 122\n",
            "電影類型 crime\n",
            "電影導演 Todd Phillips\n"
          ],
          "name": "stdout"
        }
      ]
    }
  ]
}