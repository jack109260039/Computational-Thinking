{
  "nbformat": 4,
  "nbformat_minor": 0,
  "metadata": {
    "colab": {
      "name": "Week10-2.ipynb",
      "provenance": [],
      "authorship_tag": "ABX9TyMMgHqT3YRmIYMo9p3Guzha",
      "include_colab_link": true
    },
    "kernelspec": {
      "name": "python3",
      "display_name": "Python 3"
    }
  },
  "cells": [
    {
      "cell_type": "markdown",
      "metadata": {
        "id": "view-in-github",
        "colab_type": "text"
      },
      "source": [
        "<a href=\"https://colab.research.google.com/github/jack109260039/Computational-Thinking/blob/master/Week10_2.ipynb\" target=\"_parent\"><img src=\"https://colab.research.google.com/assets/colab-badge.svg\" alt=\"Open In Colab\"/></a>"
      ]
    },
    {
      "cell_type": "code",
      "metadata": {
        "colab": {
          "base_uri": "https://localhost:8080/"
        },
        "id": "indR6JO9edgN",
        "outputId": "fc269291-60a5-4d1c-c51e-a5899772b8ce"
      },
      "source": [
        "time=123\n",
        "hour=time//60\n",
        "min=time%60\n",
        "print(time,'是',hour,'小時',min,'分鐘')"
      ],
      "execution_count": 1,
      "outputs": [
        {
          "output_type": "stream",
          "text": [
            "123 是 2 小時 3 分鐘\n"
          ],
          "name": "stdout"
        }
      ]
    },
    {
      "cell_type": "code",
      "metadata": {
        "colab": {
          "base_uri": "https://localhost:8080/"
        },
        "id": "d-7Zamp8i9_Z",
        "outputId": "901cdb2c-da5d-4783-a9ef-ba6c8b007241"
      },
      "source": [
        "hour1=int(time/60)\n",
        "min1=((time/60)-hour1)*60\n",
        "import math\n",
        "min1=round(min1)\n",
        "print(time,'是',hour1,'小時',min1,'分鐘')"
      ],
      "execution_count": 3,
      "outputs": [
        {
          "output_type": "stream",
          "text": [
            "123 是 2 小時 3 分鐘\n"
          ],
          "name": "stdout"
        }
      ]
    }
  ]
}