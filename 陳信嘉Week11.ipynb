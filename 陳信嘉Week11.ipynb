{
  "nbformat": 4,
  "nbformat_minor": 0,
  "metadata": {
    "colab": {
      "name": "陳信嘉Week11.ipynb",
      "provenance": [],
      "authorship_tag": "ABX9TyOTpeQEViYpkRpGmManZngg",
      "include_colab_link": true
    },
    "kernelspec": {
      "name": "python3",
      "display_name": "Python 3"
    }
  },
  "cells": [
    {
      "cell_type": "markdown",
      "metadata": {
        "id": "view-in-github",
        "colab_type": "text"
      },
      "source": [
        "<a href=\"https://colab.research.google.com/github/jack109260039/Computational-Thinking/blob/master/%E9%99%B3%E4%BF%A1%E5%98%89Week11.ipynb\" target=\"_parent\"><img src=\"https://colab.research.google.com/assets/colab-badge.svg\" alt=\"Open In Colab\"/></a>"
      ]
    },
    {
      "cell_type": "markdown",
      "metadata": {
        "id": "QTo0xN_daWrT"
      },
      "source": [
        "分組"
      ]
    },
    {
      "cell_type": "code",
      "metadata": {
        "colab": {
          "base_uri": "https://localhost:8080/"
        },
        "id": "vCW7_JfSa96g",
        "outputId": "7c56ea14-04ac-4d63-dc84-2242191c0c3a"
      },
      "source": [
        "# 商數餘數\n",
        "\n",
        "## Input\n",
        "seat=int(input('Enter a seat number?'))\n",
        "\n",
        "## Process\n",
        "group=(seat-1)//5+1\n",
        "\n",
        "## Output\n",
        "print('Group is',group)"
      ],
      "execution_count": 3,
      "outputs": [
        {
          "output_type": "stream",
          "text": [
            "Enter a seat number?23\n",
            "Group is 5\n"
          ],
          "name": "stdout"
        }
      ]
    },
    {
      "cell_type": "code",
      "metadata": {
        "colab": {
          "base_uri": "https://localhost:8080/"
        },
        "id": "Lu1P5DY7czZx",
        "outputId": "229e202e-5c13-4806-e647-4e387f602bee"
      },
      "source": [
        "# 四捨五入 無條件進位\n",
        "\n",
        "## Input\n",
        "seat=int(input('Enter a seat number?'))\n",
        "\n",
        "## Process\n",
        "import math\n",
        "group=math.ceil(seat/5)\n",
        "\n",
        "## Output\n",
        "print('Group is',group)"
      ],
      "execution_count": 6,
      "outputs": [
        {
          "output_type": "stream",
          "text": [
            "Enter a seat number?12\n",
            "Group is 3\n"
          ],
          "name": "stdout"
        }
      ]
    },
    {
      "cell_type": "code",
      "metadata": {
        "colab": {
          "base_uri": "https://localhost:8080/"
        },
        "id": "r9DlxkH8eOlf",
        "outputId": "9135b799-54a6-4d4c-f8dc-9855d99f81b0"
      },
      "source": [
        "# 看餘數 用條件句\n",
        "\n",
        "x=int(input('Enter a seat number?'))\n",
        "\n",
        "if seat%5==0:\n",
        "  print('Group is',(x//5))\n",
        "\n",
        "else:\n",
        "  print('Group is',(x//5+1))"
      ],
      "execution_count": 26,
      "outputs": [
        {
          "output_type": "stream",
          "text": [
            "Enter a seat number?11\n",
            "Group is 3\n"
          ],
          "name": "stdout"
        }
      ]
    },
    {
      "cell_type": "code",
      "metadata": {
        "colab": {
          "base_uri": "https://localhost:8080/",
          "height": 131
        },
        "id": "oSm1XSymmDqb",
        "outputId": "a3c84d8d-373e-41bf-9f45-7bca899a31bc"
      },
      "source": [
        "# chatbot introduction\n",
        "print('Hello. I am Zyxo 64. I am a chatbot')\n",
        "print('I like animals and I love to talk about food')\n",
        "name = input('What is your name?: ')\n",
        "print('Hello', name, ', Nice to meet you')\n",
        "# get year information\n",
        "year = input('I am not very good at dates. What \\\n",
        "is the year?: ')\n",
        "print('Yes, I think that is correct. Thanks! ')\n",
        "# ask user to guess age\n",
        "myage = input('Can you guess my age? - enter a \\\n",
        "number: ')\n",
        "print('Yes you are right. I am ', myage)\n",
        "# do math to calculate when chatbot will be 100\n",
        "myage = int(myage)\n",
        "nyears = 100 - myage\n",
        "print('I will be 100 in', nyears, 'years')\n",
        "print('That will be the year', int(year) + \\\n",
        "nyears)\n",
        "# food conversation\n",
        "print('I love chocolate and I also like trying out new kinds of\n",
        "food')\n",
        "food = input('How about you? What is your favorite food?: ')\n",
        "print('I like', food, 'too.')\n",
        "question = 'How often do you eat ' + food + '?: '\n",
        "howoften = input(question)\n",
        "print('Interesting. I wonder if that is good for your health')\n",
        "# animal conversation\n",
        "animal = input('My favorite animal is a giraffe. What is yours?:\n",
        "')\n",
        "print(animal,'! I do not like them.')\n",
        "print('I wonder if a', animal, 'likes to eat', food, '?')\n",
        "# conversation about feelings\n",
        "feeling = input('How are you feeling today?: ')\n",
        "print('Why are you feeling', feeling, 'now?')\n",
        "reason = input('Please tell me: ')\n",
        "print('I understand. Thanks for sharing')\n",
        "# goodbye\n",
        "print('It has been a long day')\n",
        "print('I am too tired to talk. We can chat again later.')\n",
        "print('Goodbye', name, 'I liked chatting with you')"
      ],
      "execution_count": 45,
      "outputs": [
        {
          "output_type": "error",
          "ename": "SyntaxError",
          "evalue": "ignored",
          "traceback": [
            "\u001b[0;36m  File \u001b[0;32m\"<ipython-input-45-437945f0abaa>\"\u001b[0;36m, line \u001b[0;32m18\u001b[0m\n\u001b[0;31m    print('I love chocolate and I also like trying out new kinds of\u001b[0m\n\u001b[0m                                                                   ^\u001b[0m\n\u001b[0;31mSyntaxError\u001b[0m\u001b[0;31m:\u001b[0m EOL while scanning string literal\n"
          ]
        }
      ]
    }
  ]
}