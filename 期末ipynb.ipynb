{
  "nbformat": 4,
  "nbformat_minor": 0,
  "metadata": {
    "colab": {
      "name": "期末ipynb",
      "provenance": [],
      "authorship_tag": "ABX9TyMQAKWskUdPq1VPcSQHVYq7",
      "include_colab_link": true
    },
    "kernelspec": {
      "name": "python3",
      "display_name": "Python 3"
    }
  },
  "cells": [
    {
      "cell_type": "markdown",
      "metadata": {
        "id": "view-in-github",
        "colab_type": "text"
      },
      "source": [
        "<a href=\"https://colab.research.google.com/github/jack109260039/Computational-Thinking/blob/master/%E6%9C%9F%E6%9C%ABipynb.ipynb\" target=\"_parent\"><img src=\"https://colab.research.google.com/assets/colab-badge.svg\" alt=\"Open In Colab\"/></a>"
      ]
    },
    {
      "cell_type": "code",
      "metadata": {
        "colab": {
          "base_uri": "https://localhost:8080/"
        },
        "id": "nNupY2YXHa4l",
        "outputId": "4c1f615e-9d1b-474b-acfe-135cf5ba73f8"
      },
      "source": [
        "print(\"大家好，我是迷糊鬼~\")\r\n",
        "ans=input(\"猜猜我今天幾點起床?(7點/10點)\")\r\n",
        "if ans==\"10點\":\r\n",
        "  a=input(\"那你要不要猜我昨天幾點睡覺?\")\r\n",
        "  if a=='8點':\r\n",
        "    print('你猜對了，我昨天吃完晚餐就睡了')\r\n",
        "  else:\r\n",
        "    print('猜錯了')\r\n",
        "else:\r\n",
        "  print(\"我沒這麼早起床啦!\")"
      ],
      "execution_count": 1,
      "outputs": [
        {
          "output_type": "stream",
          "text": [
            "大家好，我是迷糊鬼~\n",
            "猜猜我今天幾點起床?(7點/10點)10點\n",
            "那你要不要猜我昨天幾點睡覺?8點\n",
            "你猜對了，我昨天吃完晚餐就睡了\n"
          ],
          "name": "stdout"
        }
      ]
    }
  ]
}