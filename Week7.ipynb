{
  "nbformat": 4,
  "nbformat_minor": 0,
  "metadata": {
    "colab": {
      "name": "Week7.ipynb",
      "provenance": [],
      "authorship_tag": "ABX9TyNytkYXR5IVD0snt9djiz9s",
      "include_colab_link": true
    },
    "kernelspec": {
      "name": "python3",
      "display_name": "Python 3"
    }
  },
  "cells": [
    {
      "cell_type": "markdown",
      "metadata": {
        "id": "view-in-github",
        "colab_type": "text"
      },
      "source": [
        "<a href=\"https://colab.research.google.com/github/jack109260039/Computational-Thinking/blob/master/Week7.ipynb\" target=\"_parent\"><img src=\"https://colab.research.google.com/assets/colab-badge.svg\" alt=\"Open In Colab\"/></a>"
      ]
    },
    {
      "cell_type": "code",
      "metadata": {
        "id": "qTcuEvJokf9c",
        "outputId": "227acd26-4409-48a0-e499-ee8667b51eed",
        "colab": {
          "base_uri": "https://localhost:8080/"
        }
      },
      "source": [
        "magic_number=int(input('請輸入數字:'))\n",
        "f=magic_number**0+332\n",
        "print('得出結果為:%f' %(f))"
      ],
      "execution_count": 5,
      "outputs": [
        {
          "output_type": "stream",
          "text": [
            "請輸入數字:1234567\n",
            "得出結果為:333.000000\n"
          ],
          "name": "stdout"
        }
      ]
    }
  ]
}