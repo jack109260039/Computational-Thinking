{
  "nbformat": 4,
  "nbformat_minor": 0,
  "metadata": {
    "colab": {
      "name": "Week10.ipynb",
      "provenance": [],
      "authorship_tag": "ABX9TyPUl1wGXP0Un0gnqYYjzNIs",
      "include_colab_link": true
    },
    "kernelspec": {
      "name": "python3",
      "display_name": "Python 3"
    }
  },
  "cells": [
    {
      "cell_type": "markdown",
      "metadata": {
        "id": "view-in-github",
        "colab_type": "text"
      },
      "source": [
        "<a href=\"https://colab.research.google.com/github/jack109260039/Computational-Thinking/blob/master/Week10.ipynb\" target=\"_parent\"><img src=\"https://colab.research.google.com/assets/colab-badge.svg\" alt=\"Open In Colab\"/></a>"
      ]
    },
    {
      "cell_type": "code",
      "metadata": {
        "colab": {
          "base_uri": "https://localhost:8080/"
        },
        "id": "2bugjKIR-s4q",
        "outputId": "9a917318-9e33-4cbb-882d-32b33b4be4ea"
      },
      "source": [
        "x=int(input(\"請輸入座號：\"))\n",
        "x=(x+2)/5\n",
        "x=round(x)\n",
        "print(\"組別\",x)"
      ],
      "execution_count": 47,
      "outputs": [
        {
          "output_type": "stream",
          "text": [
            "請輸入座號：19\n",
            "組別 4\n"
          ],
          "name": "stdout"
        }
      ]
    }
  ]
}