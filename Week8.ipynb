{
  "nbformat": 4,
  "nbformat_minor": 0,
  "metadata": {
    "colab": {
      "name": "Week8.ipynb",
      "provenance": [],
      "authorship_tag": "ABX9TyMh0m/i9IVhcfUPKtHG9eDO",
      "include_colab_link": true
    },
    "kernelspec": {
      "name": "python3",
      "display_name": "Python 3"
    }
  },
  "cells": [
    {
      "cell_type": "markdown",
      "metadata": {
        "id": "view-in-github",
        "colab_type": "text"
      },
      "source": [
        "<a href=\"https://colab.research.google.com/github/jack109260039/Computational-Thinking/blob/master/Week8.ipynb\" target=\"_parent\"><img src=\"https://colab.research.google.com/assets/colab-badge.svg\" alt=\"Open In Colab\"/></a>"
      ]
    },
    {
      "cell_type": "code",
      "metadata": {
        "id": "mJVQroqtOau_",
        "outputId": "0a6d8331-4095-4a04-e905-d24be1789e97",
        "colab": {
          "base_uri": "https://localhost:8080/"
        }
      },
      "source": [
        "clothe=int(input('衣服數量:'))"
      ],
      "execution_count": 5,
      "outputs": [
        {
          "output_type": "stream",
          "text": [
            "衣服數量:100\n"
          ],
          "name": "stdout"
        }
      ]
    },
    {
      "cell_type": "code",
      "metadata": {
        "id": "kkYDpaG3j1GT",
        "outputId": "94ab15d5-6599-4708-f34e-9ee1d0614c42",
        "colab": {
          "base_uri": "https://localhost:8080/"
        }
      },
      "source": [
        "pants=int(input('褲子數量:'))"
      ],
      "execution_count": 17,
      "outputs": [
        {
          "output_type": "stream",
          "text": [
            "褲子數量:50\n"
          ],
          "name": "stdout"
        }
      ]
    },
    {
      "cell_type": "code",
      "metadata": {
        "id": "89HdpDWAhoCq"
      },
      "source": [
        "total=clothe*200+pants*250"
      ],
      "execution_count": 18,
      "outputs": []
    },
    {
      "cell_type": "code",
      "metadata": {
        "id": "uYToO6g7i7O_",
        "outputId": "59d4cb3b-c268-4938-ca19-8151e8b24a5b",
        "colab": {
          "base_uri": "https://localhost:8080/"
        }
      },
      "source": [
        "print('衣服總共金額',total)"
      ],
      "execution_count": 19,
      "outputs": [
        {
          "output_type": "stream",
          "text": [
            "衣服總共金額 32500\n"
          ],
          "name": "stdout"
        }
      ]
    }
  ]
}