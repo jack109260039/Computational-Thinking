{
  "nbformat": 4,
  "nbformat_minor": 0,
  "metadata": {
    "colab": {
      "name": "Week8.ipynb",
      "provenance": [],
      "authorship_tag": "ABX9TyOXOmArM85q1wqTWazLti4+",
      "include_colab_link": true
    },
    "kernelspec": {
      "name": "python3",
      "display_name": "Python 3"
    }
  },
  "cells": [
    {
      "cell_type": "markdown",
      "metadata": {
        "id": "view-in-github",
        "colab_type": "text"
      },
      "source": [
        "<a href=\"https://colab.research.google.com/github/jack109260039/Computational-Thinking/blob/master/Week8.ipynb\" target=\"_parent\"><img src=\"https://colab.research.google.com/assets/colab-badge.svg\" alt=\"Open In Colab\"/></a>"
      ]
    },
    {
      "cell_type": "code",
      "metadata": {
        "id": "p2f_WcAsm6Kh",
        "outputId": "e1d2f87b-0b57-4405-ef7a-24a7da4426a3",
        "colab": {
          "base_uri": "https://localhost:8080/"
        }
      },
      "source": [
        "fir=int(input('請輸入第一次段考成績'))"
      ],
      "execution_count": 18,
      "outputs": [
        {
          "output_type": "stream",
          "text": [
            "請輸入第一次段考成績78\n"
          ],
          "name": "stdout"
        }
      ]
    },
    {
      "cell_type": "code",
      "metadata": {
        "id": "i8xIXeL9n6th",
        "outputId": "5f75a8f9-3bd5-4d8e-c8ac-ea811a104781",
        "colab": {
          "base_uri": "https://localhost:8080/"
        }
      },
      "source": [
        "sec=int(input('請輸入第二次段考成績'))"
      ],
      "execution_count": 19,
      "outputs": [
        {
          "output_type": "stream",
          "text": [
            "請輸入第二次段考成績83\n"
          ],
          "name": "stdout"
        }
      ]
    },
    {
      "cell_type": "code",
      "metadata": {
        "id": "qh1svp3woByD",
        "outputId": "2d4e1680-0e2d-4e76-ffce-1b925d22076f",
        "colab": {
          "base_uri": "https://localhost:8080/"
        }
      },
      "source": [
        "final=int(input('請輸入期末段考成績'))"
      ],
      "execution_count": 20,
      "outputs": [
        {
          "output_type": "stream",
          "text": [
            "請輸入期末段考成績84\n"
          ],
          "name": "stdout"
        }
      ]
    },
    {
      "cell_type": "code",
      "metadata": {
        "id": "1Ur8gdHepSFH"
      },
      "source": [
        "total=(fir)+(sec)+(final)"
      ],
      "execution_count": 21,
      "outputs": []
    },
    {
      "cell_type": "code",
      "metadata": {
        "id": "GHgVcwybplaf",
        "outputId": "3713d4b6-df1f-42f0-dc76-e78e7d74dc8f",
        "colab": {
          "base_uri": "https://localhost:8080/"
        }
      },
      "source": [
        "print('總分',total)"
      ],
      "execution_count": 23,
      "outputs": [
        {
          "output_type": "stream",
          "text": [
            "總分 245\n"
          ],
          "name": "stdout"
        }
      ]
    },
    {
      "cell_type": "code",
      "metadata": {
        "id": "Dg4adgNboN6x"
      },
      "source": [
        "average=((fir)+(sec)+(final))//3"
      ],
      "execution_count": 24,
      "outputs": []
    },
    {
      "cell_type": "code",
      "metadata": {
        "id": "vlOSOecLou5x",
        "outputId": "d6f63121-1c13-4601-818f-9e437deb8750",
        "colab": {
          "base_uri": "https://localhost:8080/"
        }
      },
      "source": [
        "print('三次段考平均',average)"
      ],
      "execution_count": 25,
      "outputs": [
        {
          "output_type": "stream",
          "text": [
            "三次段考平均 81\n"
          ],
          "name": "stdout"
        }
      ]
    }
  ]
}