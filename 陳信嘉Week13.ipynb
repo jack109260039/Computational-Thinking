{
  "nbformat": 4,
  "nbformat_minor": 0,
  "metadata": {
    "colab": {
      "name": "陳信嘉Week13.ipynb",
      "provenance": [],
      "authorship_tag": "ABX9TyNEOmWsNYxBwi1TNiOlD60Q",
      "include_colab_link": true
    },
    "kernelspec": {
      "name": "python3",
      "display_name": "Python 3"
    }
  },
  "cells": [
    {
      "cell_type": "markdown",
      "metadata": {
        "id": "view-in-github",
        "colab_type": "text"
      },
      "source": [
        "<a href=\"https://colab.research.google.com/github/jack109260039/Computational-Thinking/blob/master/%E9%99%B3%E4%BF%A1%E5%98%89Week13.ipynb\" target=\"_parent\"><img src=\"https://colab.research.google.com/assets/colab-badge.svg\" alt=\"Open In Colab\"/></a>"
      ]
    },
    {
      "cell_type": "code",
      "metadata": {
        "colab": {
          "base_uri": "https://localhost:8080/"
        },
        "id": "Y5CJj2IUjyzW",
        "outputId": "f242e566-8499-4965-a38e-ecb794bac77b"
      },
      "source": [
        "for i in range(0,5,1):\r\n",
        "  print('Hello')"
      ],
      "execution_count": 6,
      "outputs": [
        {
          "output_type": "stream",
          "text": [
            "Hello\n",
            "Hello\n",
            "Hello\n",
            "Hello\n",
            "Hello\n"
          ],
          "name": "stdout"
        }
      ]
    },
    {
      "cell_type": "code",
      "metadata": {
        "colab": {
          "base_uri": "https://localhost:8080/"
        },
        "id": "fUCK9zbuk1bW",
        "outputId": "2516b0a9-8e88-4714-f51a-b7df04376d8d"
      },
      "source": [
        "# [0,1,2,3,4,5]\r\n",
        "for i in range(0,5,1):\r\n",
        "  print(i)\r\n",
        "\r\n",
        "#[2,3,4,5]\r\n",
        "for i in range(2,6,1):\r\n",
        "  print(i)\r\n",
        "\r\n",
        "#[2,4,6,8]\r\n",
        "for i in range(2,10,2):\r\n",
        "  print(i)"
      ],
      "execution_count": 9,
      "outputs": [
        {
          "output_type": "stream",
          "text": [
            "0\n",
            "1\n",
            "2\n",
            "3\n",
            "4\n",
            "2\n",
            "3\n",
            "4\n",
            "5\n",
            "2\n",
            "4\n",
            "6\n",
            "8\n"
          ],
          "name": "stdout"
        }
      ]
    },
    {
      "cell_type": "code",
      "metadata": {
        "colab": {
          "base_uri": "https://localhost:8080/"
        },
        "id": "yBXyIpaslUV_",
        "outputId": "7039775f-52a2-4fdb-ae7b-6cc90dba53ff"
      },
      "source": [
        "#[100,97,94,91]\r\n",
        "for i in range(100, 90, -3):\r\n",
        "  print(i)"
      ],
      "execution_count": 10,
      "outputs": [
        {
          "output_type": "stream",
          "text": [
            "100\n",
            "97\n",
            "94\n",
            "91\n"
          ],
          "name": "stdout"
        }
      ]
    },
    {
      "cell_type": "code",
      "metadata": {
        "colab": {
          "base_uri": "https://localhost:8080/"
        },
        "id": "0Mv8m04fuTcV",
        "outputId": "8ba5b0da-9c33-4b5c-d671-7297cb251cf6"
      },
      "source": [
        "# 數字1到10之和。\r\n",
        "sum = 0 \r\n",
        "for i in range(1, 11, 1): \r\n",
        "  sum = sum + i \r\n",
        "print(\"Total is\", sum)"
      ],
      "execution_count": 15,
      "outputs": [
        {
          "output_type": "stream",
          "text": [
            "Total is 55\n"
          ],
          "name": "stdout"
        }
      ]
    },
    {
      "cell_type": "code",
      "metadata": {
        "colab": {
          "base_uri": "https://localhost:8080/"
        },
        "id": "L1S05g7Osfns",
        "outputId": "e8e5b9a0-1562-4a3e-f722-940d027ce33f"
      },
      "source": [
        "#計算數字3到13之間,每隔3個數字之和\r\n",
        "sum = 0\r\n",
        "for i in range(3, 13, 3): \r\n",
        "  sum = sum + i \r\n",
        "print(\"Total is\", sum)"
      ],
      "execution_count": 14,
      "outputs": [
        {
          "output_type": "stream",
          "text": [
            "Total is 30\n"
          ],
          "name": "stdout"
        }
      ]
    },
    {
      "cell_type": "code",
      "metadata": {
        "colab": {
          "base_uri": "https://localhost:8080/"
        },
        "id": "G8kdeG4yuiqW",
        "outputId": "5249ccf5-837d-4e70-c0bb-342eae50dd81"
      },
      "source": [
        "#加分\r\n",
        "# 給數字串列,將數字串列中的元素加總。\r\n",
        "## 數字串列的初值、終值、遞增值\r\n",
        "start = int(input('請輸入加總開始值?'))\r\n",
        "end = int(input('請輸入加總終止值?'))\r\n",
        "step = int(input('請輸入遞增減值?'))\r\n",
        "\r\n",
        "sum = 0 \r\n",
        "for i in range(start, end, step): \r\n",
        "  sum = sum + i \r\n",
        "print('i為', i, '時,累加結果為', sum)"
      ],
      "execution_count": 16,
      "outputs": [
        {
          "output_type": "stream",
          "text": [
            "請輸入加總開始值?10\n",
            "請輸入加總終止值?20\n",
            "請輸入遞增減值?1\n",
            "i為 19 時,累加結果為 145\n"
          ],
          "name": "stdout"
        }
      ]
    },
    {
      "cell_type": "code",
      "metadata": {
        "colab": {
          "base_uri": "https://localhost:8080/"
        },
        "id": "YbzHCOpIx5_N",
        "outputId": "adbdecf1-ae63-43ba-9610-989c59621863"
      },
      "source": [
        "#作業:求數字平方和\r\n",
        "sum=0\r\n",
        "n=int(input('請輸入終止值?'))\r\n",
        "for i in range(1,n):\r\n",
        "  sum=sum+i**2\r\n",
        "print('total',sum)"
      ],
      "execution_count": 26,
      "outputs": [
        {
          "output_type": "stream",
          "text": [
            "請輸入終止值?6\n",
            "total 55\n"
          ],
          "name": "stdout"
        }
      ]
    }
  ]
}