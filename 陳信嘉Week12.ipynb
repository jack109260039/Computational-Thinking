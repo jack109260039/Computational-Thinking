{
  "nbformat": 4,
  "nbformat_minor": 0,
  "metadata": {
    "colab": {
      "name": "陳信嘉Week12.ipynb",
      "provenance": [],
      "authorship_tag": "ABX9TyMOtUi3TQkaZLlR0pn7hMrQ",
      "include_colab_link": true
    },
    "kernelspec": {
      "name": "python3",
      "display_name": "Python 3"
    }
  },
  "cells": [
    {
      "cell_type": "markdown",
      "metadata": {
        "id": "view-in-github",
        "colab_type": "text"
      },
      "source": [
        "<a href=\"https://colab.research.google.com/github/jack109260039/Computational-Thinking/blob/master/%E9%99%B3%E4%BF%A1%E5%98%89Week12.ipynb\" target=\"_parent\"><img src=\"https://colab.research.google.com/assets/colab-badge.svg\" alt=\"Open In Colab\"/></a>"
      ]
    },
    {
      "cell_type": "markdown",
      "metadata": {
        "id": "03mXJ4KeeLRG"
      },
      "source": [
        "隨堂練習1:購物清單\n",
        "\n"
      ]
    },
    {
      "cell_type": "code",
      "metadata": {
        "colab": {
          "base_uri": "https://localhost:8080/"
        },
        "id": "rjo1PY0EdR1F",
        "outputId": "6c2172d7-f963-4930-d738-7e246abca534"
      },
      "source": [
        "shoppling_list=['蘋果','香蕉','葡萄','鳳梨','西瓜']\n",
        "print(shoppling_list)\n",
        "print(shoppling_list[0])\n",
        "shoppling_list[1]='奇異果'\n",
        "print(shoppling_list)\n",
        "print(shoppling_list[1:3])"
      ],
      "execution_count": 3,
      "outputs": [
        {
          "output_type": "stream",
          "text": [
            "['蘋果', '香蕉', '葡萄', '鳳梨', '西瓜']\n",
            "蘋果\n",
            "['蘋果', '奇異果', '葡萄', '鳳梨', '西瓜']\n",
            "['奇異果', '葡萄']\n"
          ],
          "name": "stdout"
        }
      ]
    },
    {
      "cell_type": "markdown",
      "metadata": {
        "id": "UyJkpsmgm3y6"
      },
      "source": [
        "隨堂練習2:"
      ]
    },
    {
      "cell_type": "code",
      "metadata": {
        "colab": {
          "base_uri": "https://localhost:8080/"
        },
        "id": "htC5il1pm-2y",
        "outputId": "b548e1d8-71f1-41e7-86c2-afbf45a407ef"
      },
      "source": [
        "# NBA冠軍賽的六筆資訊\n",
        "season = \"1995-1996\"\n",
        "team = \"Chicago Bulls\"\n",
        "coach = \"Phil Jackson\"\n",
        "records = [72, 10]\n",
        "starting = [\"Ron Harper\", \"Michael Jordan\", \"Scottie Pippen\", \"Dennis Rodman\", \"Luc Longley\"]\n",
        "champion = True\n",
        "\n",
        "best_NBA = list((season, team, coach, records, starting,champion))\n",
        "print(best_NBA)\n",
        "\n",
        "print(best_NBA[4])\n",
        "print(best_NBA[-2])\n",
        "print(best_NBA[0:3])"
      ],
      "execution_count": 6,
      "outputs": [
        {
          "output_type": "stream",
          "text": [
            "['1995-1996', 'Chicago Bulls', 'Phil Jackson', [72, 10], ['Ron Harper', 'Michael Jordan', 'Scottie Pippen', 'Dennis Rodman', 'Luc Longley'], True]\n",
            "['Ron Harper', 'Michael Jordan', 'Scottie Pippen', 'Dennis Rodman', 'Luc Longley']\n",
            "['Ron Harper', 'Michael Jordan', 'Scottie Pippen', 'Dennis Rodman', 'Luc Longley']\n",
            "['1995-1996', 'Chicago Bulls', 'Phil Jackson']\n"
          ],
          "name": "stdout"
        }
      ]
    },
    {
      "cell_type": "markdown",
      "metadata": {
        "id": "-4po-Q8Qqara"
      },
      "source": [
        "隨堂練習3:"
      ]
    },
    {
      "cell_type": "code",
      "metadata": {
        "colab": {
          "base_uri": "https://localhost:8080/"
        },
        "id": "b0Ac5YzXqYxl",
        "outputId": "1c645546-8e71-497e-e5b7-09212cf0cd0e"
      },
      "source": [
        "#[0,1,2,3,4,5,6,7,8,9]\n",
        "a = range(9) \n",
        "print(a)\n",
        "range(0,9)\n",
        "print(a[0],a[1],a[2],a[3],a[4],a[5],a[6],a[7],a[8])\n",
        "\n",
        "#[0,2,4,6,8]\n",
        "b = range(0,10,2) \n",
        "print(b[0],b[1],b[2],b[3],b[4])\n",
        "\n",
        "# [5,7,9]\n",
        "c = range(5,10,2)\n",
        "print(c[0],c[1],c[2])\n",
        "\n",
        "# [0,-1 -2,-3,-4,-5,-6,-7,-8,-9]\n",
        "d = range(0,-10,-1)\n",
        "print(d[0],d[1],d[2],d[3],d[4],d[5],d[6],d[7],d[8],d[9])"
      ],
      "execution_count": 20,
      "outputs": [
        {
          "output_type": "stream",
          "text": [
            "range(0, 9)\n",
            "0 1 2 3 4 5 6 7 8\n",
            "0 2 4 6 8\n",
            "5 7 9\n",
            "0 -1 -2 -3 -4 -5 -6 -7 -8 -9\n"
          ],
          "name": "stdout"
        }
      ]
    }
  ]
}